{
 "cells": [
  {
   "cell_type": "code",
   "execution_count": 1,
   "id": "3f7aeba2",
   "metadata": {},
   "outputs": [],
   "source": [
    "import numpy as np\n",
    "import pandas as pd"
   ]
  },
  {
   "cell_type": "code",
   "execution_count": 2,
   "id": "656338a8",
   "metadata": {},
   "outputs": [],
   "source": [
    "mult_ind = pd.MultiIndex(levels=[['A', 'B', 'C'], ['left', 'right']],\n",
    "                     codes=[[0, 0, 1, 1, 2, 2], [0, 1, 0, 1, 0, 1]])"
   ]
  },
  {
   "cell_type": "code",
   "execution_count": 3,
   "id": "aa39b6a7",
   "metadata": {},
   "outputs": [],
   "source": [
    "df = pd.DataFrame(np.random.randn(6, 3), mult_ind, ['X', 'Y', 'Z'])"
   ]
  },
  {
   "cell_type": "code",
   "execution_count": 4,
   "id": "6e5d4045",
   "metadata": {},
   "outputs": [
    {
     "data": {
      "text/html": [
       "<div>\n",
       "<style scoped>\n",
       "    .dataframe tbody tr th:only-of-type {\n",
       "        vertical-align: middle;\n",
       "    }\n",
       "\n",
       "    .dataframe tbody tr th {\n",
       "        vertical-align: top;\n",
       "    }\n",
       "\n",
       "    .dataframe thead th {\n",
       "        text-align: right;\n",
       "    }\n",
       "</style>\n",
       "<table border=\"1\" class=\"dataframe\">\n",
       "  <thead>\n",
       "    <tr style=\"text-align: right;\">\n",
       "      <th></th>\n",
       "      <th></th>\n",
       "      <th>X</th>\n",
       "      <th>Y</th>\n",
       "      <th>Z</th>\n",
       "    </tr>\n",
       "  </thead>\n",
       "  <tbody>\n",
       "    <tr>\n",
       "      <th rowspan=\"2\" valign=\"top\">A</th>\n",
       "      <th>left</th>\n",
       "      <td>-0.278861</td>\n",
       "      <td>2.381226</td>\n",
       "      <td>0.191824</td>\n",
       "    </tr>\n",
       "    <tr>\n",
       "      <th>right</th>\n",
       "      <td>-0.680788</td>\n",
       "      <td>-0.293809</td>\n",
       "      <td>0.337252</td>\n",
       "    </tr>\n",
       "    <tr>\n",
       "      <th rowspan=\"2\" valign=\"top\">B</th>\n",
       "      <th>left</th>\n",
       "      <td>1.161565</td>\n",
       "      <td>1.270876</td>\n",
       "      <td>0.459915</td>\n",
       "    </tr>\n",
       "    <tr>\n",
       "      <th>right</th>\n",
       "      <td>-2.046578</td>\n",
       "      <td>0.969786</td>\n",
       "      <td>0.127985</td>\n",
       "    </tr>\n",
       "    <tr>\n",
       "      <th rowspan=\"2\" valign=\"top\">C</th>\n",
       "      <th>left</th>\n",
       "      <td>0.198669</td>\n",
       "      <td>-0.488246</td>\n",
       "      <td>-0.612958</td>\n",
       "    </tr>\n",
       "    <tr>\n",
       "      <th>right</th>\n",
       "      <td>0.759700</td>\n",
       "      <td>-0.616075</td>\n",
       "      <td>-0.682834</td>\n",
       "    </tr>\n",
       "  </tbody>\n",
       "</table>\n",
       "</div>"
      ],
      "text/plain": [
       "                X         Y         Z\n",
       "A left  -0.278861  2.381226  0.191824\n",
       "  right -0.680788 -0.293809  0.337252\n",
       "B left   1.161565  1.270876  0.459915\n",
       "  right -2.046578  0.969786  0.127985\n",
       "C left   0.198669 -0.488246 -0.612958\n",
       "  right  0.759700 -0.616075 -0.682834"
      ]
     },
     "execution_count": 4,
     "metadata": {},
     "output_type": "execute_result"
    }
   ],
   "source": [
    "df"
   ]
  },
  {
   "cell_type": "code",
   "execution_count": 13,
   "id": "bfc0d9e2",
   "metadata": {},
   "outputs": [
    {
     "data": {
      "text/plain": [
       "0.19866928255823726"
      ]
     },
     "execution_count": 13,
     "metadata": {},
     "output_type": "execute_result"
    }
   ],
   "source": [
    "df.loc['C'].loc['left']['X']"
   ]
  },
  {
   "cell_type": "code",
   "execution_count": 14,
   "id": "19707e96",
   "metadata": {},
   "outputs": [],
   "source": [
    "df.index.names = ['Points','Sides']"
   ]
  },
  {
   "cell_type": "code",
   "execution_count": 15,
   "id": "10f5a0b9",
   "metadata": {},
   "outputs": [
    {
     "data": {
      "text/html": [
       "<div>\n",
       "<style scoped>\n",
       "    .dataframe tbody tr th:only-of-type {\n",
       "        vertical-align: middle;\n",
       "    }\n",
       "\n",
       "    .dataframe tbody tr th {\n",
       "        vertical-align: top;\n",
       "    }\n",
       "\n",
       "    .dataframe thead th {\n",
       "        text-align: right;\n",
       "    }\n",
       "</style>\n",
       "<table border=\"1\" class=\"dataframe\">\n",
       "  <thead>\n",
       "    <tr style=\"text-align: right;\">\n",
       "      <th></th>\n",
       "      <th></th>\n",
       "      <th>X</th>\n",
       "      <th>Y</th>\n",
       "      <th>Z</th>\n",
       "    </tr>\n",
       "    <tr>\n",
       "      <th>Points</th>\n",
       "      <th>Sides</th>\n",
       "      <th></th>\n",
       "      <th></th>\n",
       "      <th></th>\n",
       "    </tr>\n",
       "  </thead>\n",
       "  <tbody>\n",
       "    <tr>\n",
       "      <th rowspan=\"2\" valign=\"top\">A</th>\n",
       "      <th>left</th>\n",
       "      <td>-0.278861</td>\n",
       "      <td>2.381226</td>\n",
       "      <td>0.191824</td>\n",
       "    </tr>\n",
       "    <tr>\n",
       "      <th>right</th>\n",
       "      <td>-0.680788</td>\n",
       "      <td>-0.293809</td>\n",
       "      <td>0.337252</td>\n",
       "    </tr>\n",
       "    <tr>\n",
       "      <th rowspan=\"2\" valign=\"top\">B</th>\n",
       "      <th>left</th>\n",
       "      <td>1.161565</td>\n",
       "      <td>1.270876</td>\n",
       "      <td>0.459915</td>\n",
       "    </tr>\n",
       "    <tr>\n",
       "      <th>right</th>\n",
       "      <td>-2.046578</td>\n",
       "      <td>0.969786</td>\n",
       "      <td>0.127985</td>\n",
       "    </tr>\n",
       "    <tr>\n",
       "      <th rowspan=\"2\" valign=\"top\">C</th>\n",
       "      <th>left</th>\n",
       "      <td>0.198669</td>\n",
       "      <td>-0.488246</td>\n",
       "      <td>-0.612958</td>\n",
       "    </tr>\n",
       "    <tr>\n",
       "      <th>right</th>\n",
       "      <td>0.759700</td>\n",
       "      <td>-0.616075</td>\n",
       "      <td>-0.682834</td>\n",
       "    </tr>\n",
       "  </tbody>\n",
       "</table>\n",
       "</div>"
      ],
      "text/plain": [
       "                     X         Y         Z\n",
       "Points Sides                              \n",
       "A      left  -0.278861  2.381226  0.191824\n",
       "       right -0.680788 -0.293809  0.337252\n",
       "B      left   1.161565  1.270876  0.459915\n",
       "       right -2.046578  0.969786  0.127985\n",
       "C      left   0.198669 -0.488246 -0.612958\n",
       "       right  0.759700 -0.616075 -0.682834"
      ]
     },
     "execution_count": 15,
     "metadata": {},
     "output_type": "execute_result"
    }
   ],
   "source": [
    "df"
   ]
  },
  {
   "cell_type": "code",
   "execution_count": 20,
   "id": "58bde460",
   "metadata": {},
   "outputs": [
    {
     "data": {
      "text/plain": [
       "Points\n",
       "A   -0.293809\n",
       "B    0.969786\n",
       "C   -0.616075\n",
       "Name: Y, dtype: float64"
      ]
     },
     "execution_count": 20,
     "metadata": {},
     "output_type": "execute_result"
    }
   ],
   "source": [
    "df.xs('right', level='Sides')['Y']"
   ]
  },
  {
   "cell_type": "code",
   "execution_count": null,
   "id": "06152cd4",
   "metadata": {},
   "outputs": [],
   "source": []
  }
 ],
 "metadata": {
  "kernelspec": {
   "display_name": "Python 3 (ipykernel)",
   "language": "python",
   "name": "python3"
  },
  "language_info": {
   "codemirror_mode": {
    "name": "ipython",
    "version": 3
   },
   "file_extension": ".py",
   "mimetype": "text/x-python",
   "name": "python",
   "nbconvert_exporter": "python",
   "pygments_lexer": "ipython3",
   "version": "3.9.13"
  }
 },
 "nbformat": 4,
 "nbformat_minor": 5
}
