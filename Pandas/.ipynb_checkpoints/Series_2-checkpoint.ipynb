{
 "cells": [
  {
   "cell_type": "code",
   "execution_count": 2,
   "id": "b1c27404",
   "metadata": {},
   "outputs": [],
   "source": [
    "import numpy as np\n",
    "import pandas as pd"
   ]
  },
  {
   "cell_type": "code",
   "execution_count": 3,
   "id": "4672937d",
   "metadata": {},
   "outputs": [],
   "source": [
    "s1 = pd.Series ([1,2,3,4,5,6,7],['red', 'orange', 'yellow', 'blue', 'green', 'indigo', 'violet'])"
   ]
  },
  {
   "cell_type": "code",
   "execution_count": 5,
   "id": "14e497cc",
   "metadata": {},
   "outputs": [
    {
     "data": {
      "text/plain": [
       "red       1\n",
       "orange    2\n",
       "yellow    3\n",
       "blue      4\n",
       "green     5\n",
       "indigo    6\n",
       "violet    7\n",
       "dtype: int64"
      ]
     },
     "execution_count": 5,
     "metadata": {},
     "output_type": "execute_result"
    }
   ],
   "source": [
    "s1"
   ]
  },
  {
   "cell_type": "code",
   "execution_count": 7,
   "id": "c7720399",
   "metadata": {},
   "outputs": [],
   "source": [
    "randNum = np.random.randint(3,7,6)"
   ]
  },
  {
   "cell_type": "code",
   "execution_count": 11,
   "id": "cfab25b2",
   "metadata": {},
   "outputs": [],
   "source": [
    "s2 = pd.Series(['a', 'b', 'c', 'd', 'e', 'f'],randNum)"
   ]
  },
  {
   "cell_type": "code",
   "execution_count": 12,
   "id": "e6c2cb49",
   "metadata": {},
   "outputs": [
    {
     "data": {
      "text/plain": [
       "5    a\n",
       "5    b\n",
       "5    c\n",
       "6    d\n",
       "3    e\n",
       "3    f\n",
       "dtype: object"
      ]
     },
     "execution_count": 12,
     "metadata": {},
     "output_type": "execute_result"
    }
   ],
   "source": [
    "s2"
   ]
  },
  {
   "cell_type": "code",
   "execution_count": null,
   "id": "552a9d17",
   "metadata": {},
   "outputs": [],
   "source": []
  }
 ],
 "metadata": {
  "kernelspec": {
   "display_name": "Python 3 (ipykernel)",
   "language": "python",
   "name": "python3"
  },
  "language_info": {
   "codemirror_mode": {
    "name": "ipython",
    "version": 3
   },
   "file_extension": ".py",
   "mimetype": "text/x-python",
   "name": "python",
   "nbconvert_exporter": "python",
   "pygments_lexer": "ipython3",
   "version": "3.9.13"
  }
 },
 "nbformat": 4,
 "nbformat_minor": 5
}
