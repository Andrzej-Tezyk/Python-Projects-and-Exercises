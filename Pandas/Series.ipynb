{
 "cells": [
  {
   "cell_type": "code",
   "execution_count": 1,
   "id": "c32bfeff",
   "metadata": {},
   "outputs": [],
   "source": [
    "import numpy as np\n",
    "import pandas as pd"
   ]
  },
  {
   "cell_type": "code",
   "execution_count": 2,
   "id": "43e080eb",
   "metadata": {},
   "outputs": [],
   "source": [
    "letters = ['a', 'b', 'c']\n",
    "numbers = [1, 2, 3]\n",
    "np_arr = np.array(numbers)\n",
    "dict = {'a':1, 'b':2, 'c':3}"
   ]
  },
  {
   "cell_type": "code",
   "execution_count": 6,
   "id": "e48471cb",
   "metadata": {},
   "outputs": [
    {
     "data": {
      "text/plain": [
       "0    1\n",
       "1    2\n",
       "2    3\n",
       "dtype: int64"
      ]
     },
     "execution_count": 6,
     "metadata": {},
     "output_type": "execute_result"
    }
   ],
   "source": [
    "pd.Series(data = numbers)"
   ]
  },
  {
   "cell_type": "code",
   "execution_count": 9,
   "id": "6a67cf69",
   "metadata": {},
   "outputs": [
    {
     "data": {
      "text/plain": [
       "a    1\n",
       "b    2\n",
       "c    3\n",
       "dtype: int64"
      ]
     },
     "execution_count": 9,
     "metadata": {},
     "output_type": "execute_result"
    }
   ],
   "source": [
    "pd.Series(numbers, letters)"
   ]
  },
  {
   "cell_type": "code",
   "execution_count": 10,
   "id": "6a251093",
   "metadata": {},
   "outputs": [
    {
     "data": {
      "text/plain": [
       "a    1\n",
       "b    2\n",
       "c    3\n",
       "dtype: int64"
      ]
     },
     "execution_count": 10,
     "metadata": {},
     "output_type": "execute_result"
    }
   ],
   "source": [
    "pd.Series(data=numbers, index=letters)"
   ]
  },
  {
   "cell_type": "code",
   "execution_count": 12,
   "id": "3a2a77a8",
   "metadata": {},
   "outputs": [
    {
     "data": {
      "text/plain": [
       "a    1\n",
       "b    2\n",
       "c    3\n",
       "dtype: int32"
      ]
     },
     "execution_count": 12,
     "metadata": {},
     "output_type": "execute_result"
    }
   ],
   "source": [
    "pd.Series(np_arr, letters)"
   ]
  },
  {
   "cell_type": "code",
   "execution_count": 13,
   "id": "21115c24",
   "metadata": {},
   "outputs": [
    {
     "data": {
      "text/plain": [
       "a    1\n",
       "b    2\n",
       "c    3\n",
       "dtype: int64"
      ]
     },
     "execution_count": 13,
     "metadata": {},
     "output_type": "execute_result"
    }
   ],
   "source": [
    "pd.Series(dict)"
   ]
  },
  {
   "cell_type": "code",
   "execution_count": 15,
   "id": "50613b6e",
   "metadata": {},
   "outputs": [],
   "source": [
    "life_long_average = pd.Series([84, 85, 86], ['Hong Kong', 'Japan', 'Italy'])"
   ]
  },
  {
   "cell_type": "code",
   "execution_count": 18,
   "id": "8cb96240",
   "metadata": {},
   "outputs": [
    {
     "data": {
      "text/plain": [
       "Hong Kong    84\n",
       "Japan        85\n",
       "Italy        86\n",
       "dtype: int64"
      ]
     },
     "execution_count": 18,
     "metadata": {},
     "output_type": "execute_result"
    }
   ],
   "source": [
    "life_long_average"
   ]
  },
  {
   "cell_type": "code",
   "execution_count": 19,
   "id": "f89a5c79",
   "metadata": {},
   "outputs": [
    {
     "data": {
      "text/plain": [
       "85"
      ]
     },
     "execution_count": 19,
     "metadata": {},
     "output_type": "execute_result"
    }
   ],
   "source": [
    "life_long_average['Japan']"
   ]
  },
  {
   "cell_type": "code",
   "execution_count": 22,
   "id": "3f28b8d4",
   "metadata": {},
   "outputs": [],
   "source": [
    "life_long_average_1 = pd.Series([84, 85, 86], ['USA', 'Japan', 'Italy'])"
   ]
  },
  {
   "cell_type": "code",
   "execution_count": 23,
   "id": "8042e7a1",
   "metadata": {},
   "outputs": [
    {
     "data": {
      "text/plain": [
       "Hong Kong      NaN\n",
       "Italy        172.0\n",
       "Japan        170.0\n",
       "USA            NaN\n",
       "dtype: float64"
      ]
     },
     "execution_count": 23,
     "metadata": {},
     "output_type": "execute_result"
    }
   ],
   "source": [
    "life_long_average + life_long_average_1"
   ]
  },
  {
   "cell_type": "code",
   "execution_count": null,
   "id": "27eb3b1f",
   "metadata": {},
   "outputs": [],
   "source": []
  }
 ],
 "metadata": {
  "kernelspec": {
   "display_name": "Python 3 (ipykernel)",
   "language": "python",
   "name": "python3"
  },
  "language_info": {
   "codemirror_mode": {
    "name": "ipython",
    "version": 3
   },
   "file_extension": ".py",
   "mimetype": "text/x-python",
   "name": "python",
   "nbconvert_exporter": "python",
   "pygments_lexer": "ipython3",
   "version": "3.9.13"
  }
 },
 "nbformat": 4,
 "nbformat_minor": 5
}
