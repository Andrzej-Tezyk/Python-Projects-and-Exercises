{
 "cells": [
  {
   "cell_type": "code",
   "execution_count": 3,
   "id": "e21e83d7",
   "metadata": {},
   "outputs": [],
   "source": [
    "import numpy as np"
   ]
  },
  {
   "cell_type": "code",
   "execution_count": 4,
   "id": "d8dcd9be",
   "metadata": {},
   "outputs": [],
   "source": [
    "rand_int = np.random.randint(0, 20, 10)"
   ]
  },
  {
   "cell_type": "code",
   "execution_count": 12,
   "id": "53df2ad7",
   "metadata": {},
   "outputs": [
    {
     "name": "stdout",
     "output_type": "stream",
     "text": [
      "[ 3 11 16 13  1 15 12  1  9 16] [11 16 13  1 15]\n"
     ]
    }
   ],
   "source": [
    "print(rand_int, rand_int[1:6])"
   ]
  },
  {
   "cell_type": "code",
   "execution_count": 14,
   "id": "115ab2f8",
   "metadata": {},
   "outputs": [
    {
     "name": "stdout",
     "output_type": "stream",
     "text": [
      "[ 3 11 16 13  1 15 12  1  9 16] [16 13  1 15 12  1  9 16]\n"
     ]
    }
   ],
   "source": [
    "print(rand_int, rand_int[2:])"
   ]
  },
  {
   "cell_type": "code",
   "execution_count": 24,
   "id": "ae56f7ba",
   "metadata": {},
   "outputs": [],
   "source": [
    "two_dim_array = np.random.randint(3,12,12).reshape(4, 3)"
   ]
  },
  {
   "cell_type": "code",
   "execution_count": 25,
   "id": "28dba8b5",
   "metadata": {},
   "outputs": [
    {
     "name": "stdout",
     "output_type": "stream",
     "text": [
      "[[10 11  5]\n",
      " [ 6  5 10]\n",
      " [ 8 10  8]\n",
      " [ 3 10  7]]\n"
     ]
    }
   ],
   "source": [
    "print(two_dim_array)"
   ]
  },
  {
   "cell_type": "code",
   "execution_count": 27,
   "id": "4993f1fe",
   "metadata": {},
   "outputs": [],
   "source": [
    "two_dim_array_2 = np.random.randint(0,10,24).reshape(4, 6)"
   ]
  },
  {
   "cell_type": "code",
   "execution_count": 29,
   "id": "9bc10eda",
   "metadata": {},
   "outputs": [
    {
     "name": "stdout",
     "output_type": "stream",
     "text": [
      "[[9 2 3 7 8 2]\n",
      " [5 0 0 2 5 9]\n",
      " [5 4 5 3 2 8]\n",
      " [3 3 9 4 2 4]] [9 7 8 5 5 9 5 4 5 8 9 4 4]\n"
     ]
    }
   ],
   "source": [
    "print(two_dim_array_2, two_dim_array_2[two_dim_array_2>3])"
   ]
  },
  {
   "cell_type": "code",
   "execution_count": null,
   "id": "2dd7691a",
   "metadata": {},
   "outputs": [],
   "source": []
  }
 ],
 "metadata": {
  "kernelspec": {
   "display_name": "Python 3 (ipykernel)",
   "language": "python",
   "name": "python3"
  },
  "language_info": {
   "codemirror_mode": {
    "name": "ipython",
    "version": 3
   },
   "file_extension": ".py",
   "mimetype": "text/x-python",
   "name": "python",
   "nbconvert_exporter": "python",
   "pygments_lexer": "ipython3",
   "version": "3.9.13"
  }
 },
 "nbformat": 4,
 "nbformat_minor": 5
}
