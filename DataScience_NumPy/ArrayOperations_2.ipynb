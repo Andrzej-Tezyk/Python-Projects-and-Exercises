{
 "cells": [
  {
   "cell_type": "code",
   "execution_count": 1,
   "id": "f371128a",
   "metadata": {},
   "outputs": [],
   "source": [
    "import numpy as np"
   ]
  },
  {
   "cell_type": "code",
   "execution_count": 2,
   "id": "0f14943e",
   "metadata": {},
   "outputs": [],
   "source": [
    "arr_1 = np.random.randint(1,21,10)"
   ]
  },
  {
   "cell_type": "code",
   "execution_count": 7,
   "id": "6220cf20",
   "metadata": {},
   "outputs": [],
   "source": [
    "arr_2 = np.arange(2,12)"
   ]
  },
  {
   "cell_type": "code",
   "execution_count": 8,
   "id": "9b781268",
   "metadata": {},
   "outputs": [
    {
     "name": "stdout",
     "output_type": "stream",
     "text": [
      "[ 8 20 16  8 17  8 13  4 19 12] [ 2  3  4  5  6  7  8  9 10 11]\n"
     ]
    }
   ],
   "source": [
    "print(arr_1, arr_2)"
   ]
  },
  {
   "cell_type": "code",
   "execution_count": 9,
   "id": "6d8b2805",
   "metadata": {},
   "outputs": [
    {
     "name": "stdout",
     "output_type": "stream",
     "text": [
      "[10 23 20 13 23 15 21 13 29 23]\n"
     ]
    }
   ],
   "source": [
    "print(arr_1 + arr_2)"
   ]
  },
  {
   "cell_type": "code",
   "execution_count": 10,
   "id": "8bf4b79c",
   "metadata": {},
   "outputs": [],
   "source": [
    "arr_3 = np.random.randint(0,10,7)"
   ]
  },
  {
   "cell_type": "code",
   "execution_count": 11,
   "id": "474939bb",
   "metadata": {},
   "outputs": [],
   "source": [
    "arr_4 = arr_3 * 3"
   ]
  },
  {
   "cell_type": "code",
   "execution_count": 12,
   "id": "fc1c5f91",
   "metadata": {},
   "outputs": [
    {
     "name": "stdout",
     "output_type": "stream",
     "text": [
      "[2 4 3 3 9 1 7] [ 6 12  9  9 27  3 21]\n"
     ]
    }
   ],
   "source": [
    "print(arr_3, arr_4)"
   ]
  },
  {
   "cell_type": "code",
   "execution_count": 23,
   "id": "fd58900b",
   "metadata": {},
   "outputs": [
    {
     "ename": "AttributeError",
     "evalue": "'numpy.ufunc' object has no attribute 'arange'",
     "output_type": "error",
     "traceback": [
      "\u001b[1;31m---------------------------------------------------------------------------\u001b[0m",
      "\u001b[1;31mAttributeError\u001b[0m                            Traceback (most recent call last)",
      "\u001b[1;32m~\\AppData\\Local\\Temp\\ipykernel_16912\\1928492773.py\u001b[0m in \u001b[0;36m<module>\u001b[1;34m\u001b[0m\n\u001b[1;32m----> 1\u001b[1;33m \u001b[0marr_5\u001b[0m \u001b[1;33m=\u001b[0m \u001b[0mnp\u001b[0m\u001b[1;33m.\u001b[0m\u001b[0msqrt\u001b[0m\u001b[1;33m.\u001b[0m\u001b[0marange\u001b[0m\u001b[1;33m(\u001b[0m\u001b[1;36m7\u001b[0m\u001b[1;33m,\u001b[0m\u001b[1;36m27\u001b[0m\u001b[1;33m)\u001b[0m\u001b[1;33m\u001b[0m\u001b[1;33m\u001b[0m\u001b[0m\n\u001b[0m",
      "\u001b[1;31mAttributeError\u001b[0m: 'numpy.ufunc' object has no attribute 'arange'"
     ]
    }
   ],
   "source": [
    "arr_5 = np.arange(7,27)"
   ]
  },
  {
   "cell_type": "code",
   "execution_count": 22,
   "id": "a799d106",
   "metadata": {},
   "outputs": [],
   "source": [
    "arr_5m = np.sqrt(arr_5)"
   ]
  },
  {
   "cell_type": "code",
   "execution_count": 19,
   "id": "fca2af1d",
   "metadata": {},
   "outputs": [
    {
     "name": "stdout",
     "output_type": "stream",
     "text": [
      "[2.64575131 2.82842712 3.         3.16227766 3.31662479 3.46410162\n",
      " 3.60555128 3.74165739 3.87298335 4.         4.12310563 4.24264069\n",
      " 4.35889894 4.47213595 4.58257569 4.69041576 4.79583152 4.89897949\n",
      " 5.         5.09901951]\n"
     ]
    }
   ],
   "source": [
    "print(arr_5m)"
   ]
  },
  {
   "cell_type": "code",
   "execution_count": null,
   "id": "68799503",
   "metadata": {},
   "outputs": [],
   "source": []
  }
 ],
 "metadata": {
  "kernelspec": {
   "display_name": "Python 3 (ipykernel)",
   "language": "python",
   "name": "python3"
  },
  "language_info": {
   "codemirror_mode": {
    "name": "ipython",
    "version": 3
   },
   "file_extension": ".py",
   "mimetype": "text/x-python",
   "name": "python",
   "nbconvert_exporter": "python",
   "pygments_lexer": "ipython3",
   "version": "3.9.13"
  }
 },
 "nbformat": 4,
 "nbformat_minor": 5
}
